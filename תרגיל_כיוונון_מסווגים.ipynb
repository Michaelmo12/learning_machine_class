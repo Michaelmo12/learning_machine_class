{
  "nbformat": 4,
  "nbformat_minor": 0,
  "metadata": {
    "colab": {
      "provenance": [],
      "mount_file_id": "1K4wCL9ckOeic-sBBO2OXwTFNcZ_U1s3G",
      "authorship_tag": "ABX9TyMheYPiuuN00anMx4+RfaQM",
      "include_colab_link": true
    },
    "kernelspec": {
      "name": "python3",
      "display_name": "Python 3"
    },
    "language_info": {
      "name": "python"
    }
  },
  "cells": [
    {
      "cell_type": "markdown",
      "metadata": {
        "id": "view-in-github",
        "colab_type": "text"
      },
      "source": [
        "<a href=\"https://colab.research.google.com/github/Michaelmo12/learning_machine_class/blob/main/%D7%AA%D7%A8%D7%92%D7%99%D7%9C_%D7%9B%D7%99%D7%95%D7%95%D7%A0%D7%95%D7%9F_%D7%9E%D7%A1%D7%95%D7%95%D7%92%D7%99%D7%9D.ipynb\" target=\"_parent\"><img src=\"https://colab.research.google.com/assets/colab-badge.svg\" alt=\"Open In Colab\"/></a>"
      ]
    },
    {
      "cell_type": "markdown",
      "source": [],
      "metadata": {
        "id": "PlXVqOep6-c8"
      }
    },
    {
      "cell_type": "markdown",
      "source": [
        "**imports**"
      ],
      "metadata": {
        "id": "saAiRh5-uyk4"
      }
    },
    {
      "cell_type": "code",
      "execution_count": 14,
      "metadata": {
        "colab": {
          "base_uri": "https://localhost:8080/"
        },
        "id": "Exyi79OyulaM",
        "outputId": "41877fc7-b6c2-44dc-a17f-c9750593db29"
      },
      "outputs": [
        {
          "output_type": "stream",
          "name": "stdout",
          "text": [
            "Drive already mounted at /content/drive; to attempt to forcibly remount, call drive.mount(\"/content/drive\", force_remount=True).\n"
          ]
        }
      ],
      "source": [
        "import pandas as pd\n",
        "import matplotlib as plt\n",
        "import numpy as np\n",
        "from google.colab import drive\n",
        "from sklearn.svm import SVC\n",
        "from sklearn.model_selection import train_test_split\n",
        "from sklearn.preprocessing import StandardScaler\n",
        "from sklearn.svm import SVC\n",
        "from sklearn.metrics import confusion_matrix, accuracy_score\n",
        "from sklearn.tree import DecisionTreeClassifier\n",
        "from sklearn.neighbors import KNeighborsClassifier\n",
        "from sklearn.naive_bayes import GaussianNB\n",
        "\n",
        "drive.mount('/content/drive')"
      ]
    },
    {
      "cell_type": "markdown",
      "source": [
        "**Preparing the data**"
      ],
      "metadata": {
        "id": "8Hup4pzN7AfZ"
      }
    },
    {
      "cell_type": "code",
      "source": [
        "dataset = pd.read_excel('/content/drive/MyDrive/winequality-red.xlsx')\n",
        "dataset['quality']=dataset['quality']-2\n",
        "X = dataset.iloc[:, :-1].values\n",
        "y = dataset.iloc[:, -1].values\n",
        "results={}"
      ],
      "metadata": {
        "id": "U1BTDFI86kOh"
      },
      "execution_count": 16,
      "outputs": []
    },
    {
      "cell_type": "markdown",
      "source": [
        "**Spliting the data**"
      ],
      "metadata": {
        "id": "v57O91qe7Cu1"
      }
    },
    {
      "cell_type": "code",
      "source": [
        "X_train, X_test, y_train, y_test = train_test_split(X, y, test_size = 0.25, random_state = 0)"
      ],
      "metadata": {
        "id": "6R4vagUY6wJx"
      },
      "execution_count": 17,
      "outputs": []
    },
    {
      "cell_type": "markdown",
      "source": [
        "**Feature Scaling**"
      ],
      "metadata": {
        "id": "liyZ7yh-7E62"
      }
    },
    {
      "cell_type": "code",
      "source": [
        "sc = StandardScaler()\n",
        "X_train = sc.fit_transform(X_train)\n",
        "X_test = sc.transform(X_test)"
      ],
      "metadata": {
        "id": "Isyn74Uu67TR"
      },
      "execution_count": 18,
      "outputs": []
    },
    {
      "cell_type": "markdown",
      "source": [
        "# Kernel SVM\n"
      ],
      "metadata": {
        "id": "I6b-BcA_926w"
      }
    },
    {
      "cell_type": "code",
      "source": [
        "classifier = SVC(kernel = 'rbf', random_state = 0)\n",
        "classifier.fit(X_train, y_train)#Training\n",
        "y_pred = classifier.predict(X_test)#Predict"
      ],
      "metadata": {
        "id": "hPHhMQc799lk"
      },
      "execution_count": 19,
      "outputs": []
    },
    {
      "cell_type": "code",
      "source": [
        "cm = confusion_matrix(y_test, y_pred)\n",
        "print(cm)\n",
        "results['SVM']=accuracy_score(y_test, y_pred)\n",
        "print(f'accuracy for kernel SVM: {results[\"SVM\"]}')"
      ],
      "metadata": {
        "colab": {
          "base_uri": "https://localhost:8080/"
        },
        "id": "KBZtytg6-C_s",
        "outputId": "996d1456-bfa5-454f-9e4c-0e730761a778"
      },
      "execution_count": 20,
      "outputs": [
        {
          "output_type": "stream",
          "name": "stdout",
          "text": [
            "[[  0   0   1   1   0   0]\n",
            " [  0   0  11   3   0   0]\n",
            " [  0   0 123  46   0   0]\n",
            " [  0   0  48 115   7   0]\n",
            " [  0   0   2  24  14   0]\n",
            " [  0   0   0   2   3   0]]\n",
            "accuracy for kernel SVM: 0.63\n"
          ]
        }
      ]
    },
    {
      "cell_type": "markdown",
      "source": [
        "#Decision Tree"
      ],
      "metadata": {
        "id": "RDXKfnpt-177"
      }
    },
    {
      "cell_type": "code",
      "source": [
        "classifier = DecisionTreeClassifier(criterion = 'entropy', random_state = 0)\n",
        "classifier.fit(X_train, y_train)#Training\n",
        "y_pred = classifier.predict(X_test)#Predict"
      ],
      "metadata": {
        "id": "je4p4Pu5-28l"
      },
      "execution_count": 21,
      "outputs": []
    },
    {
      "cell_type": "code",
      "source": [
        "cm = confusion_matrix(y_test, y_pred)\n",
        "print(cm)\n",
        "results['tree']=accuracy_score(y_test, y_pred)\n",
        "print(f'accuracy for Decision Tree : {results[\"tree\"]}')"
      ],
      "metadata": {
        "colab": {
          "base_uri": "https://localhost:8080/"
        },
        "id": "MHT7d89l_QBB",
        "outputId": "7165982a-967b-4162-b2bf-3ee634b179e0"
      },
      "execution_count": 22,
      "outputs": [
        {
          "output_type": "stream",
          "name": "stdout",
          "text": [
            "[[  0   1   1   0   0   0]\n",
            " [  1   3   6   3   1   0]\n",
            " [  3  11 109  39   7   0]\n",
            " [  2   4  35 110  19   0]\n",
            " [  0   1   4  12  20   3]\n",
            " [  0   0   0   1   4   0]]\n",
            "accuracy for Decision Tree : 0.605\n"
          ]
        }
      ]
    },
    {
      "cell_type": "markdown",
      "source": [
        "#KNN"
      ],
      "metadata": {
        "id": "DClMLeMvCAaO"
      }
    },
    {
      "cell_type": "code",
      "source": [
        "accuracies = {}\n",
        "max_k = min(len(X_train), 200)  # optional limit for performance\n",
        "\n",
        "for k in range(1, max_k):\n",
        "    classifier = KNeighborsClassifier(n_neighbors=k, metric='minkowski', p=2, weights='distance')\n",
        "    classifier.fit(X_train, y_train)\n",
        "    y_pred = classifier.predict(X_test)\n",
        "    accuracies[k] = accuracy_score(y_test, y_pred)\n",
        "best_k=max(accuracies,key=accuracies.get)\n"
      ],
      "metadata": {
        "id": "aKEzKut4CDF2"
      },
      "execution_count": 23,
      "outputs": []
    },
    {
      "cell_type": "code",
      "source": [
        "cm = confusion_matrix(y_test, y_pred)\n",
        "print(cm)\n",
        "results['KNN']=accuracies[best_k]\n",
        "print(f'accuracy for KNN : {results[\"KNN\"]} with a k: {best_k}')"
      ],
      "metadata": {
        "colab": {
          "base_uri": "https://localhost:8080/"
        },
        "id": "uu-Q2m1UCE8z",
        "outputId": "7dfcbd3a-0395-44a9-9647-dddc93eba16f"
      },
      "execution_count": 24,
      "outputs": [
        {
          "output_type": "stream",
          "name": "stdout",
          "text": [
            "[[  0   0   1   1   0   0]\n",
            " [  0   0  10   4   0   0]\n",
            " [  0   0 126  43   0   0]\n",
            " [  0   0  43 127   0   0]\n",
            " [  0   0   1  28  11   0]\n",
            " [  0   0   0   5   0   0]]\n",
            "accuracy for KNN : 0.6875 with a k: 82\n"
          ]
        }
      ]
    },
    {
      "cell_type": "markdown",
      "source": [
        "#Naive Bayes"
      ],
      "metadata": {
        "id": "BVtFgKdZCG3S"
      }
    },
    {
      "cell_type": "code",
      "source": [
        "classifier = GaussianNB()\n",
        "classifier.fit(X_train, y_train)#Training\n",
        "y_pred = classifier.predict(X_test)#Predict"
      ],
      "metadata": {
        "id": "YZyXEvcCCIFh"
      },
      "execution_count": 25,
      "outputs": []
    },
    {
      "cell_type": "code",
      "source": [
        "cm = confusion_matrix(y_test, y_pred)\n",
        "print(cm)\n",
        "results['Bayes']=accuracy_score(y_test, y_pred)\n",
        "print(f'accuracy for Naive Bayes : {results[\"Bayes\"]}')"
      ],
      "metadata": {
        "colab": {
          "base_uri": "https://localhost:8080/"
        },
        "id": "GPl_ACtHCJUV",
        "outputId": "76d3ea3d-2c79-4c82-f3a9-d3506ba45d16"
      },
      "execution_count": 26,
      "outputs": [
        {
          "output_type": "stream",
          "name": "stdout",
          "text": [
            "[[  0   0   1   1   0   0]\n",
            " [  0   0   8   6   0   0]\n",
            " [  3   7 110  41   8   0]\n",
            " [  0   4  42  85  34   5]\n",
            " [  1   0   0  13  23   3]\n",
            " [  0   0   0   2   3   0]]\n",
            "accuracy for Naive Bayes : 0.545\n"
          ]
        }
      ]
    },
    {
      "cell_type": "markdown",
      "source": [
        "# Results"
      ],
      "metadata": {
        "id": "GNZJCmmKCMo4"
      }
    },
    {
      "cell_type": "code",
      "source": [
        "max_model=max(results, key=results.get)\n",
        "max_acc=results[max_model]\n",
        "if max_model != \"KNN\":\n",
        "  print(f'The Model with the best accuracy is {max_model} with a {max_acc} accuracy')\n",
        "else:\n",
        "  print(f'The Model with the best accuracy is {max_model} (using k= {best_k}) with a {max_acc} accuracy')"
      ],
      "metadata": {
        "colab": {
          "base_uri": "https://localhost:8080/"
        },
        "id": "YbZCzTksCNQA",
        "outputId": "57fc7121-731e-477f-b59e-2bbaaad0f1ce"
      },
      "execution_count": 27,
      "outputs": [
        {
          "output_type": "stream",
          "name": "stdout",
          "text": [
            "The Model with the best accuracy is KNN (using k= 82) with a 0.6875 accuracy\n"
          ]
        }
      ]
    }
  ]
}