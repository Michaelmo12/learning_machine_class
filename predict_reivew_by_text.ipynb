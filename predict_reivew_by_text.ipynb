{
 "cells": [
  {
   "cell_type": "code",
   "execution_count": 2,
   "id": "e9a46c47",
   "metadata": {},
   "outputs": [],
   "source": [
    "import numpy as np\n",
    "import matplotlib.pyplot as plt\n",
    "import pandas as pd\n",
    "\n",
    "dataset = pd.read_csv(\"C:\\\\Users\\\\eaylp\\\\learning_machine_class\\\\resources\\\\tripadvisor_hotel_reviews.csv\")\n"
   ]
  },
  {
   "cell_type": "code",
   "execution_count": null,
   "id": "44720dc7",
   "metadata": {},
   "outputs": [
    {
     "name": "stderr",
     "output_type": "stream",
     "text": [
      "[nltk_data] Downloading package stopwords to\n",
      "[nltk_data]     C:\\Users\\eaylp\\AppData\\Roaming\\nltk_data...\n",
      "[nltk_data]   Package stopwords is already up-to-date!\n"
     ]
    }
   ],
   "source": [
    "\n",
    "# cleaning the texts\n",
    "\n",
    "import re\n",
    "import nltk\n",
    "nltk.download('stopwords')\n",
    "from nltk.corpus import stopwords\n",
    "from nltk.stem import PorterStemmer\n",
    "\n",
    "corpus = []\n",
    "for i in range(0, len(dataset)):\n",
    "    review = re.sub('[^a-zA-Z]', ' ', dataset['Review'][i])\n",
    "    review = review.lower()\n",
    "    review = review.split()\n",
    "    ps = PorterStemmer()\n",
    "    all_stopwords = stopwords.words('english')\n",
    "    all_stopwords.remove('not')\n",
    "    review = [ps.stem(word) for word in review if not word in set(all_stopwords)]\n",
    "    review = ' '.join(review)\n",
    "    corpus.append(review)"
   ]
  },
  {
   "cell_type": "code",
   "execution_count": 5,
   "id": "981d2e92",
   "metadata": {},
   "outputs": [],
   "source": [
    "\n",
    "# creating the bag of words model\n",
    "\n",
    "from sklearn.feature_extraction.text import CountVectorizer\n",
    "\n",
    "cv = CountVectorizer(max_features=1500)\n",
    "X = cv.fit_transform(corpus).toarray()\n",
    "y = dataset.iloc[:, 1].values\n"
   ]
  },
  {
   "cell_type": "code",
   "execution_count": 6,
   "id": "7b30d401",
   "metadata": {},
   "outputs": [],
   "source": [
    "# splitting the dataset into the training set and test set\n",
    "\n",
    "from sklearn.model_selection import train_test_split\n",
    "x_train, x_test, y_train, y_test = train_test_split(X, y, test_size=0.2, random_state=0)\n",
    "y_train = y_train-1\n",
    "y_test = y_test-1"
   ]
  },
  {
   "cell_type": "code",
   "execution_count": 21,
   "id": "87ff819f",
   "metadata": {},
   "outputs": [],
   "source": [
    "# training the ann on the training set\n",
    "\n",
    "import tensorflow as tf\n",
    "\n",
    "model = tf.keras.models.Sequential([\n",
    "    tf.keras.Input((1500,)),\n",
    "    tf.keras.layers.Dense(100, activation='relu'),\n",
    "    tf.keras.layers.Dense(100, activation='relu'),\n",
    "    tf.keras.layers.Dense(5, activation='softmax')\n",
    "])\n",
    "\n",
    "model.compile(optimizer='adam', loss='sparse_categorical_crossentropy', metrics=['accuracy'])"
   ]
  },
  {
   "cell_type": "code",
   "execution_count": 22,
   "id": "4555ca73",
   "metadata": {},
   "outputs": [
    {
     "name": "stdout",
     "output_type": "stream",
     "text": [
      "[3 4 3 ... 3 3 2]\n",
      "Epoch 1/10\n",
      "513/513 [==============================] - 3s 3ms/step - loss: 0.9478 - accuracy: 0.5847\n",
      "Epoch 2/10\n",
      "513/513 [==============================] - 3s 6ms/step - loss: 0.7240 - accuracy: 0.6863\n",
      "Epoch 3/10\n",
      "513/513 [==============================] - 4s 8ms/step - loss: 0.5536 - accuracy: 0.7683\n",
      "Epoch 4/10\n",
      "513/513 [==============================] - 3s 6ms/step - loss: 0.3576 - accuracy: 0.8647\n",
      "Epoch 5/10\n",
      "513/513 [==============================] - 3s 6ms/step - loss: 0.1950 - accuracy: 0.9327\n",
      "Epoch 6/10\n",
      "513/513 [==============================] - 3s 6ms/step - loss: 0.1180 - accuracy: 0.9634\n",
      "Epoch 7/10\n",
      "513/513 [==============================] - 3s 6ms/step - loss: 0.0829 - accuracy: 0.9738\n",
      "Epoch 8/10\n",
      "513/513 [==============================] - 3s 6ms/step - loss: 0.0625 - accuracy: 0.9822\n",
      "Epoch 9/10\n",
      "513/513 [==============================] - 3s 6ms/step - loss: 0.0534 - accuracy: 0.9841\n",
      "Epoch 10/10\n",
      "513/513 [==============================] - 3s 6ms/step - loss: 0.0380 - accuracy: 0.9891\n",
      "4099/4099 [==============================] - 9s 2ms/step - loss: 2.8020 - accuracy: 0.5670\n"
     ]
    },
    {
     "data": {
      "text/plain": [
       "[2.801962375640869, 0.5669675469398499]"
      ]
     },
     "execution_count": 22,
     "metadata": {},
     "output_type": "execute_result"
    }
   ],
   "source": [
    "\n",
    "\n",
    "# fitting the ann to the training set\n",
    "\n",
    "train = tf.data.Dataset.from_tensor_slices((x_train, y_train))\n",
    "train = train.shuffle(buffer_size=1024).batch(32)\n",
    "test = tf.data.Dataset.from_tensor_slices((x_test, y_test)).batch(1)\n",
    "\n",
    "print(y_train)\n",
    "\n",
    "model.fit(train, epochs=10)\n",
    "model.evaluate(test)"
   ]
  }
 ],
 "metadata": {
  "kernelspec": {
   "display_name": ".venv",
   "language": "python",
   "name": "python3"
  },
  "language_info": {
   "codemirror_mode": {
    "name": "ipython",
    "version": 3
   },
   "file_extension": ".py",
   "mimetype": "text/x-python",
   "name": "python",
   "nbconvert_exporter": "python",
   "pygments_lexer": "ipython3",
   "version": "3.11.9"
  }
 },
 "nbformat": 4,
 "nbformat_minor": 5
}
