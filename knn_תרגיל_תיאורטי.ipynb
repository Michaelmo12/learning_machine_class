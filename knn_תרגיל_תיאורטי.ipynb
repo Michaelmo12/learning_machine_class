{
  "cells": [
    {
      "cell_type": "markdown",
      "metadata": {
        "colab_type": "text",
        "id": "view-in-github"
      },
      "source": [
        "<a href=\"https://colab.research.google.com/github/MichaelBuster/learning_machine_class/blob/main/knn_%D7%AA%D7%A8%D7%92%D7%99%D7%9C_%D7%AA%D7%99%D7%90%D7%95%D7%A8%D7%98%D7%99.ipynb\" target=\"_parent\"><img src=\"https://colab.research.google.com/assets/colab-badge.svg\" alt=\"Open In Colab\"/></a>"
      ]
    },
    {
      "cell_type": "code",
      "execution_count": 1,
      "metadata": {
        "colab": {
          "base_uri": "https://localhost:8080/",
          "height": 906
        },
        "id": "ynOrqzgG_K0r",
        "outputId": "3b3504be-7875-4e8c-d74e-401db53d30b5"
      },
      "outputs": [
        {
          "name": "stdout",
          "output_type": "stream",
          "text": [
            "מערך מרחקים ריבועיים וקלאסים (לפני מיון):\n",
            "[[4. 1.]\n",
            " [2. 1.]\n",
            " [5. 1.]\n",
            " [4. 2.]\n",
            " [2. 2.]\n",
            " [5. 2.]]\n",
            "\n",
            "מערך ממוין לפי מרחק ריבועי:\n",
            "[[2. 1.]\n",
            " [2. 2.]\n",
            " [4. 2.]\n",
            " [4. 1.]\n",
            " [5. 1.]\n",
            " [5. 2.]]\n",
            "\n",
            "3 השכנים הקרובים ביותר:\n",
            "[[2. 1.]\n",
            " [2. 2.]\n",
            " [4. 2.]]\n",
            "\n",
            "ספירת קלאסים בקרב השכנים הקרובים:\n",
            "{1: 1, 2: 2}\n",
            "\n",
            "הנקודה P(3,3) מסווגת כ: וניל\n"
          ]
        },
        {
          "data": {
            "image/png": "[encoded data removed]",
            "text/plain": [
              "<Figure size 640x480 with 1 Axes>"
            ]
          },
          "metadata": {},
          "output_type": "display_data"
        }
      ],
      "source": [
        "import numpy as np\n",
        "import matplotlib.pyplot as plt\n",
        "\n",
        "# בסיס הנתונים\n",
        "# כל שורה היא [x, y, class]\n",
        "# שוקו נסמן כ-1, וניל כ-2 (או כל מספר אחר לצורך הדוגמה, רק כדי להבדיל)\n",
        "data_points = np.array([\n",
        "    [1, 3, 1],  # A - שוקו\n",
        "    [2, 2, 1],  # B - שוקו\n",
        "    [2, 5, 1],  # C - שוקו\n",
        "    [3, 1, 2],  # D - וניל\n",
        "    [4, 4, 2],  # E - וניל\n",
        "    [5, 2, 2]   # F - וניל\n",
        "])\n",
        "\n",
        "# נקודת המועמד למיון\n",
        "candidate_point = np.array([3, 3])\n",
        "\n",
        "# K עבור KNN\n",
        "k = 3\n",
        "\n",
        "# מערך לאחסון המרחקים הריבועיים והקלאסים\n",
        "# נגדיר אותו בגודל המתאים למספר הנקודות בבסיס הנתונים\n",
        "sq_distances_and_classes = np.zeros((len(data_points), 2))\n",
        "\n",
        "# חישוב המרחקים הריבועיים ושמירת הקלאס\n",
        "for i in range(len(data_points)):\n",
        "    # חישוב המרחק הריבועי האוקלידי\n",
        "    dist_sq = (candidate_point[0] - data_points[i][0])**2 + (candidate_point[1] - data_points[i][1])**2\n",
        "\n",
        "    # אחסון המרחק הריבועי והקלאס\n",
        "    sq_distances_and_classes[i][0] = dist_sq\n",
        "    sq_distances_and_classes[i][1] = data_points[i][2]\n",
        "\n",
        "print(\"מערך מרחקים ריבועיים וקלאסים (לפני מיון):\")\n",
        "print(sq_distances_and_classes)\n",
        "\n",
        "# מיון המערך לפי המרחק הריבועי (מהקטן לגדול)\n",
        "# קבלת האינדקסים הממוינים\n",
        "sorted_indices = np.argsort(sq_distances_and_classes[:, 0])\n",
        "\n",
        "# יצירת מערך ממוין\n",
        "sorted_data = sq_distances_and_classes[sorted_indices]\n",
        "\n",
        "print(\"\\nמערך ממוין לפי מרחק ריבועי:\")\n",
        "print(sorted_data)\n",
        "\n",
        "# בדיקת K השכנים הקרובים ביותר\n",
        "nearest_neighbors = sorted_data[:k]\n",
        "\n",
        "print(f\"\\n{k} השכנים הקרובים ביותר:\")\n",
        "print(nearest_neighbors)\n",
        "\n",
        "# ספירת הקלאסים בקרב K השכנים\n",
        "class_counts = {}\n",
        "for i in range(k):\n",
        "    neighbor_class = int(nearest_neighbors[i][1]) # חשוב להמיר לאינט אם הקלאסים הם מספרים\n",
        "    if neighbor_class in class_counts:\n",
        "        class_counts[neighbor_class] += 1\n",
        "    else:\n",
        "        class_counts[neighbor_class] = 1\n",
        "\n",
        "print(\"\\nספירת קלאסים בקרב השכנים הקרובים:\")\n",
        "print(class_counts)\n",
        "\n",
        "# קביעת הקלאס של נקודת המועמד (הקלאס עם הכי הרבה הופעות)\n",
        "# נניח ששוקו הוא 1 ווניל הוא 2\n",
        "class_mapping = {1: \"שוקו\", 2: \"וניל\"}\n",
        "\n",
        "if class_counts: # לוודא שיש קלאסים לספור\n",
        "    predicted_class_numeric = max(class_counts, key=class_counts.get)\n",
        "    predicted_class = class_mapping.get(predicted_class_numeric, \"קלאס לא ידוע\")\n",
        "    print(f\"\\nהנקודה P({candidate_point[0]},{candidate_point[1]}) מסווגת כ: {predicted_class}\")\n",
        "else:\n",
        "    print(\"\\nלא נמצאו שכנים לקביעת קלאס.\")\n",
        "\n",
        "# --- הדמיה (אופציונלי) ---\n",
        "# ניצור הדמיה פשוטה של הנקודות\n",
        "ax = plt.gca()\n",
        "ax.spines['left'].set_position('zero')\n",
        "ax.spines['right'].set_color('none')\n",
        "ax.spines['bottom'].set_position('zero')\n",
        "ax.spines['top'].set_color('none')\n",
        "plt.xlim([0, 6]) # נתאם את הגבולות לגודל הנתונים\n",
        "plt.ylim([0, 6])\n",
        "plt.grid()\n",
        "\n",
        "# נפרד את הנקודות לפי קלאס לצורך ההדמיה\n",
        "chocolate_points = data_points[data_points[:, 2] == 1]\n",
        "vanilla_points = data_points[data_points[:, 2] == 2]\n",
        "\n",
        "plt.scatter(chocolate_points[:, 0], chocolate_points[:, 1], color=\"brown\", marker=\"o\", s=60, label=\"שוקו\")\n",
        "plt.scatter(vanilla_points[:, 0], vanilla_points[:, 1], color=\"yellow\", marker=\"o\", s=60, label=\"וניל\")\n",
        "plt.scatter(candidate_point[0], candidate_point[1], color=\"blue\", marker=\"X\", s=100, label=f\"מועמד ({predicted_class})\")\n",
        "\n",
        "plt.title(\"הדמיית נקודות KNN\")\n",
        "plt.xlabel(\"ציר X\")\n",
        "plt.ylabel(\"ציר Y\")\n",
        "plt.legend()\n",
        "plt.show()"
      ]
    }
  ],
  "metadata": {
    "colab": {
      "authorship_tag": "ABX9TyMJUFQm3Zt1tkqJv0+b+gr+",
      "include_colab_link": true,
      "provenance": []
    },
    "kernelspec": {
      "display_name": "venv",
      "language": "python",
      "name": "python3"
    },
    "language_info": {
      "codemirror_mode": {
        "name": "ipython",
        "version": 3
      },
      "file_extension": ".py",
      "mimetype": "text/x-python",
      "name": "python",
      "nbconvert_exporter": "python",
      "pygments_lexer": "ipython3",
      "version": "3.13.3"
    }
  },
  "nbformat": 4,
  "nbformat_minor": 0
}
