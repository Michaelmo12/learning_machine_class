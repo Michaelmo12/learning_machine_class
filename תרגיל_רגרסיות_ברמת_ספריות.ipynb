{
  "nbformat": 4,
  "nbformat_minor": 0,
  "metadata": {
    "colab": {
      "provenance": [],
      "mount_file_id": "1Ch48S5uaBqfK3G4rlmglQB_CTSjQeXWn",
      "authorship_tag": "ABX9TyPmloLVTIytbn+Mo7BCG4Tk",
      "include_colab_link": true
    },
    "kernelspec": {
      "name": "python3",
      "display_name": "Python 3"
    },
    "language_info": {
      "name": "python"
    }
  },
  "cells": [
    {
      "cell_type": "markdown",
      "metadata": {
        "id": "view-in-github",
        "colab_type": "text"
      },
      "source": [
        "<a href=\"https://colab.research.google.com/github/Michaelmo12/learning_machine_class/blob/main/%D7%AA%D7%A8%D7%92%D7%99%D7%9C_%D7%A8%D7%92%D7%A8%D7%A1%D7%99%D7%95%D7%AA_%D7%91%D7%A8%D7%9E%D7%AA_%D7%A1%D7%A4%D7%A8%D7%99%D7%95%D7%AA.ipynb\" target=\"_parent\"><img src=\"https://colab.research.google.com/assets/colab-badge.svg\" alt=\"Open In Colab\"/></a>"
      ]
    },
    {
      "cell_type": "code",
      "source": [
        "import pandas as pd\n",
        "import numpy as np\n",
        "from sklearn.model_selection import train_test_split\n",
        "from sklearn.linear_model import LinearRegression\n",
        "\n",
        "# קריאת הקובץ\n",
        "df = pd.read_csv(\"/content/drive/MyDrive/winequality-red.xlsx - winequality-red.csv\")\n",
        "\n",
        "# תיקון שם העמודה אם צריך\n",
        "df.rename(columns={\"alcoho\": \"alcohol\"}, inplace=True)\n",
        "\n",
        "# בחירת עמודות\n",
        "X = df.drop(\"quality\", axis=1).values  # כל העמודות חוץ מ-quality\n",
        "y = df[\"quality\"].values               # משתנה יעד\n",
        "\n",
        "# חלוקה לסט אימון וסט בדיקה\n",
        "X_train, X_test, y_train, y_test = train_test_split(X, y, test_size=0.2, random_state=0)\n",
        "\n",
        "# אימון המודל\n",
        "regressor = LinearRegression()\n",
        "regressor.fit(X_train, y_train)\n",
        "\n",
        "# תחזיות\n",
        "y_pred = regressor.predict(X_test)\n",
        "\n",
        "# הדפסת תוצאה\n",
        "\n",
        "# מקדמים\n",
        "print(\"מקדם לכל תכונה:\", regressor.coef_)\n",
        "print(\"איבר חופשי (intercept):\", regressor.intercept_)\n"
      ],
      "metadata": {
        "colab": {
          "base_uri": "https://localhost:8080/"
        },
        "id": "9HL7LHBkRe-o",
        "outputId": "6475ce9d-6ddb-4a3e-eaeb-ea213147a7fd"
      },
      "execution_count": 26,
      "outputs": [
        {
          "output_type": "stream",
          "name": "stdout",
          "text": [
            "מקדם לכל תכונה: [ 4.12835075e-02 -1.14952802e+00 -1.77927063e-01  2.78700036e-02\n",
            " -1.87340739e+00  2.68362616e-03 -2.77748370e-03 -3.15166657e+01\n",
            " -2.54486051e-01  9.24040106e-01  2.67797417e-01]\n",
            "איבר חופשי (intercept): 34.99871063155546\n"
          ]
        }
      ]
    },
    {
      "cell_type": "code",
      "source": [
        "import pandas as pd\n",
        "import numpy as np\n",
        "from sklearn.linear_model import LinearRegression\n",
        "from sklearn.preprocessing import PolynomialFeatures\n",
        "from sklearn.metrics import mean_squared_error, r2_score\n",
        "from sklearn.model_selection import train_test_split\n",
        "\n",
        "dataset = pd.read_csv('/content/drive/MyDrive/winequality-red.xlsx - winequality-red.csv')\n",
        "X = dataset.iloc[:, 1:-1].values\n",
        "y = dataset.iloc[:, -1].values\n",
        "\n",
        "df.rename(columns={\"alcoho\": \"alcohol\"}, inplace=True)\n",
        "\n",
        "# Features (X) and label (y)\n",
        "X = df.drop(\"quality\", axis=1).values  # all columns except 'quality'\n",
        "y = df[\"quality\"].values               # target column\n",
        "\n",
        "# Split the data into training and testing sets (80/20)\n",
        "X_train, X_test, y_train, y_test = train_test_split(X, y, test_size=0.2, random_state=42)\n",
        "\n",
        "# === 1. Linear Regression ===\n",
        "lin_reg = LinearRegression()\n",
        "lin_reg.fit(X_train, y_train)\n",
        "y_pred_linear = lin_reg.predict(X_test)\n",
        "\n",
        "print(\"📈 Linear Regression:\")\n",
        "print(\"Coefficients:\", lin_reg.coef_)\n",
        "print(\"Intercept:\", lin_reg.intercept_)\n",
        "print(\"MSE:\", mean_squared_error(y_test, y_pred_linear))\n",
        "print(\"R² Score:\", r2_score(y_test, y_pred_linear))\n",
        "print(\"-\" * 50)\n",
        "\n",
        "# === 2. Polynomial Regression (Degree 2) ===\n",
        "poly = PolynomialFeatures(degree=2)\n",
        "X_train_poly = poly.fit_transform(X_train)\n",
        "X_test_poly = poly.transform(X_test)\n",
        "\n",
        "poly_reg = LinearRegression()\n",
        "poly_reg.fit(X_train_poly, y_train)\n",
        "y_pred_poly = poly_reg.predict(X_test_poly)\n",
        "\n",
        "print(\"📊 Polynomial Regression (degree 2):\")\n",
        "print(\"Number of features after transformation:\", X_train_poly.shape[1])\n",
        "print(\"MSE:\", mean_squared_error(y_test, y_pred_poly))\n",
        "print(\"R² Score:\", r2_score(y_test, y_pred_poly))"
      ],
      "metadata": {
        "colab": {
          "base_uri": "https://localhost:8080/"
        },
        "id": "5mRIh_urUJEG",
        "outputId": "de30fdf5-c769-4225-a50f-3276b1b16849"
      },
      "execution_count": 24,
      "outputs": [
        {
          "output_type": "stream",
          "name": "stdout",
          "text": [
            "📈 Linear Regression:\n",
            "Coefficients: [ 2.30853339e-02 -1.00130443e+00 -1.40821461e-01  6.56431104e-03\n",
            " -1.80650315e+00  5.62733439e-03 -3.64444893e-03 -1.03515936e+01\n",
            " -3.93687732e-01  8.41171623e-01  2.81889567e-01]\n",
            "Intercept: 14.355105198456528\n",
            "MSE: 0.39002514396431714\n",
            "R² Score: 0.40318034127906766\n",
            "--------------------------------------------------\n",
            "📊 Polynomial Regression (degree 2):\n",
            "Number of features after transformation: 78\n",
            "MSE: 0.3818565017053003\n",
            "R² Score: 0.4156800643371428\n"
          ]
        }
      ]
    },
    {
      "cell_type": "code",
      "source": [
        "import pandas as pd\n",
        "import numpy as np\n",
        "from sklearn.model_selection import train_test_split, cross_val_score\n",
        "from sklearn.linear_model import LinearRegression, Ridge, Lasso\n",
        "from sklearn.ensemble import RandomForestRegressor\n",
        "from sklearn.metrics import mean_squared_error, r2_score\n",
        "from sklearn.feature_selection import SelectKBest, f_regression\n",
        "from sklearn.preprocessing import StandardScaler\n",
        "\n",
        "df = pd.read_csv('/content/drive/MyDrive/winequality-red.xlsx - winequality-red.csv')\n",
        "\n",
        "X = df.drop('quality', axis=1)\n",
        "y = df['quality']\n",
        "\n",
        "scaler = StandardScaler()\n",
        "X_scaled = scaler.fit_transform(X)\n",
        "\n",
        "X_train, X_test, y_train, y_test = train_test_split(X_scaled, y, test_size=0.25, random_state=42)\n",
        "\n",
        "models = {\n",
        "    'LinearRegression': LinearRegression(),\n",
        "    'Ridge': Ridge(),\n",
        "    'Lasso': Lasso(),\n",
        "    'RandomForest': RandomForestRegressor(random_state=42)\n",
        "}\n",
        "\n",
        "results = {}\n",
        "\n",
        "for name, model in models.items():\n",
        "    model.fit(X_train, y_train)\n",
        "    y_pred = model.predict(X_test)\n",
        "    mse = mean_squared_error(y_test, y_pred)\n",
        "    r2 = r2_score(y_test, y_pred)\n",
        "    results[name] = {'mse': mse, 'r2': r2}\n",
        "\n",
        "for name, res in results.items():\n",
        "    print(f\"{name}: MSE={res['mse']:.3f}, R2={res['r2']:.3f}\")\n",
        "\n",
        "best_model = max(results, key=lambda x: results[x]['r2'])\n",
        "print(f\"\\nהמודל הטוב ביותר הוא: {best_model}\")\n",
        "\n",
        "selector = SelectKBest(score_func=f_regression, k=5)\n",
        "X_new = selector.fit_transform(X_scaled, y)\n",
        "selected_features = X.columns[selector.get_support(indices=True)]\n",
        "print(\"\\nהפיצ'רים שנבחרו:\")\n",
        "print(selected_features)\n",
        "\n",
        "X_train_fs, X_test_fs, y_train_fs, y_test_fs = train_test_split(X_new, y, test_size=0.25, random_state=42)\n",
        "final_model = models[best_model]\n",
        "final_model.fit(X_train_fs, y_train_fs)\n",
        "y_pred_fs = final_model.predict(X_test_fs)\n",
        "mse_fs = mean_squared_error(y_test_fs, y_pred_fs)\n",
        "r2_fs = r2_score(y_test_fs, y_pred_fs)\n",
        "print(f\"\\n{best_model} עם בחירת פיצ'רים: MSE={mse_fs:.3f}, R2={r2_fs:.3f}\")"
      ],
      "metadata": {
        "colab": {
          "base_uri": "https://localhost:8080/"
        },
        "id": "OP_-bpCFUga9",
        "outputId": "b57071ac-0299-4125-8773-edaaf53d261d"
      },
      "execution_count": 25,
      "outputs": [
        {
          "output_type": "stream",
          "name": "stdout",
          "text": [
            "LinearRegression: MSE=0.388, R2=0.372\n",
            "Ridge: MSE=0.388, R2=0.372\n",
            "Lasso: MSE=0.620, R2=-0.002\n",
            "RandomForest: MSE=0.309, R2=0.500\n",
            "\n",
            "המודל הטוב ביותר הוא: RandomForest\n",
            "\n",
            "הפיצ'רים שנבחרו:\n",
            "Index(['volatile acidity', 'citric acid', 'total sulfur dioxide', 'sulphates',\n",
            "       'alcoho'],\n",
            "      dtype='object')\n",
            "\n",
            "RandomForest עם בחירת פיצ'רים: MSE=0.326, R2=0.473\n"
          ]
        }
      ]
    }
  ]
}